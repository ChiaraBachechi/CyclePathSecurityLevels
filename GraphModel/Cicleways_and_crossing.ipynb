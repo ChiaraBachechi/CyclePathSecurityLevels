{
 "cells": [
  {
   "cell_type": "code",
   "execution_count": null,
   "id": "28a03f03",
   "metadata": {},
   "outputs": [],
   "source": [
    "import pandas as pd\n",
    "import geopandas as gpd\n",
    "import folium\n",
    "from folium.plugins import FastMarkerCluster\n",
    "import osmnx as ox\n",
    "import matplotlib.pyplot as plt\n",
    "%matplotlib inline"
   ]
  },
  {
   "cell_type": "markdown",
   "id": "10e174e0",
   "metadata": {},
   "source": [
    "### Analisi delle ciclabili"
   ]
  },
  {
   "cell_type": "code",
   "execution_count": null,
   "id": "91d13099",
   "metadata": {},
   "outputs": [],
   "source": [
    "gdf_ciclabili = gpd.read_file('MappaFinaleLivelliSicurezza.geojson', crs={'init': 'epsg:4326'}, geometry='geometry')"
   ]
  },
  {
   "cell_type": "code",
   "execution_count": null,
   "id": "b40692c1",
   "metadata": {},
   "outputs": [],
   "source": [
    "#Ho notato che ci sono dei pessi di ciclabili che hanno lo stesso id di OSM anche se sono separati tra di loro, quindi vado \n",
    "#a modificare gli id in modo da renderli univoci \n",
    "\n",
    "#l_ids = list(gdf_ciclabili['id'])\n",
    "\n",
    "l_ids = [x for x in range(gdf_ciclabili.shape[0])]\n",
    "\n",
    "#for i in range(len(l_ids)):\n",
    "#    l_ids[i] = l_ids[i] + \"-\"+str(i)\n",
    "    \n",
    "gdf_ciclabili.insert(2, 'id_num', l_ids)\n",
    "gdf_ciclabili.head()"
   ]
  },
  {
   "cell_type": "code",
   "execution_count": null,
   "id": "55fe4bb1",
   "metadata": {},
   "outputs": [],
   "source": [
    "#Visto che in Neo4j Spatial non c'è un modo rapido e veloce per decretare se sue poligoni si toccano, uso la funzione 'touches' \n",
    "#per determinare quali bicycle lanes si toccano tra di loro e aggiungo questa informazione in una colonna\n",
    "\n",
    "\n",
    "list_touched_lanes = []\n",
    "for _, r in gdf_ciclabili.iterrows():\n",
    "    list_touched_lanes.append(list(gdf_ciclabili[gdf_ciclabili['geometry'].touches(r['geometry'])]['id_num']))\n",
    "    \n",
    "    \n",
    "gdf_ciclabili['touched_lanes'] = list_touched_lanes\n",
    "\n",
    "#Adesso nel GeoDataFrame gdf_ciclabili ho tutte le informazioni che mi servono per creare il grafo delle ciclabili\n",
    "gdf_ciclabili.to_csv('ciclabili.csv')"
   ]
  },
  {
   "cell_type": "markdown",
   "id": "cde05cc7",
   "metadata": {},
   "source": [
    "### Analisi degli attraversamenti (crossing)"
   ]
  },
  {
   "cell_type": "code",
   "execution_count": null,
   "id": "d89e8a14",
   "metadata": {},
   "outputs": [],
   "source": [
    "gdf_crossing_nodes =  gpd.read_file('crossing_nodes.geojson', crs={'init': 'epsg:4326'}, geometry='geometry')\n",
    "gdf_crossing_nodes = gdf_crossing_nodes[gdf_crossing_nodes.geometry.type != \"Polygon\"]\n",
    "gdf_crossing_nodes.head(10)"
   ]
  },
  {
   "cell_type": "code",
   "execution_count": null,
   "id": "440b8da0",
   "metadata": {},
   "outputs": [],
   "source": [
    "#Inserisco l'id numerico anche ai crossing nodes\n",
    "l_ids = [x for x in range(gdf_crossing_nodes.shape[0])]\n",
    "\n",
    "#for i in range(len(l_ids)):\n",
    "#    l_ids[i] = l_ids[i] + \"-\"+str(i)\n",
    "    \n",
    "gdf_crossing_nodes.insert(2, 'id_num', l_ids)\n",
    "gdf_crossing_nodes.head()"
   ]
  },
  {
   "cell_type": "code",
   "execution_count": null,
   "id": "8faf72a3",
   "metadata": {},
   "outputs": [],
   "source": [
    "gdf_crossing_nodes.to_file(\"crossing_nodes.geojson\")"
   ]
  },
  {
   "cell_type": "code",
   "execution_count": null,
   "id": "c7742fe2",
   "metadata": {},
   "outputs": [],
   "source": []
  },
  {
   "cell_type": "code",
   "execution_count": null,
   "id": "ec967856",
   "metadata": {},
   "outputs": [],
   "source": []
  },
  {
   "cell_type": "code",
   "execution_count": null,
   "id": "752bcba6",
   "metadata": {},
   "outputs": [],
   "source": [
    "gdf_crossing_ways =  gpd.read_file('crossing_ways.geojson', crs={'init': 'epsg:4326'}, geometry='geometry')\n",
    "gdf_crossing_ways = gdf_crossing_ways[gdf_crossing_ways.geometry.type != \"Polygon\"]\n",
    "gdf_crossing_ways.head(10)"
   ]
  },
  {
   "cell_type": "code",
   "execution_count": null,
   "id": "a3ad1500",
   "metadata": {},
   "outputs": [],
   "source": [
    "#Ho notato che ci sono dei pessi di ciclabili che hanno lo stesso id di OSM anche se sono separati tra di loro, quindi vado \n",
    "#a modificare gli id in modo da renderli univoci \n",
    "\n",
    "#l_ids = list(gdf_ciclabili['id'])\n",
    "\n",
    "l_ids = [x for x in range(gdf_crossing_ways.shape[0])]\n",
    "\n",
    "#for i in range(len(l_ids)):\n",
    "#    l_ids[i] = l_ids[i] + \"-\"+str(i)\n",
    "    \n",
    "gdf_crossing_ways.insert(2, 'id_num', l_ids)\n",
    "gdf_crossing_ways.head()"
   ]
  },
  {
   "cell_type": "code",
   "execution_count": null,
   "id": "f1aca910",
   "metadata": {},
   "outputs": [],
   "source": [
    "#Creaiamo un GeoDataFrame provvisorio relativo alle ciclabili che ci servirà successivamente per fare dei calcoli sulle distanze\n",
    "#tra le ciclabili e gli attraversamenti\n",
    "\n",
    "gdf_ciclabili_prova = gpd.GeoDataFrame(gdf_ciclabili)\n",
    "gdf_ciclabili_prova.to_crs(epsg=3310, inplace=True)"
   ]
  },
  {
   "cell_type": "code",
   "execution_count": null,
   "id": "8773815d",
   "metadata": {},
   "outputs": [],
   "source": [
    "#Gli attraversamenti del tipo ways o intersecano o sono molto vicini alle bicycle lanes, quindi per determinare se è possibile\n",
    "#attraversare devo trovare gli attraversamenti più vicini alla ciclabile di riferimento, mentre le intersezioni le posso \n",
    "#calcolare direttamente su Neo4j grazie alla funzione spatial.intersects\n",
    "gdf_crossing_ways_prova = gpd.GeoDataFrame(gdf_crossing_ways)\n",
    "gdf_crossing_ways_prova.to_crs(epsg=3310, inplace=True)\n",
    "\n",
    "s = gdf_ciclabili_prova['geometry']\n",
    "list_closest_lanes = []\n",
    "\n",
    "for index, r in gdf_crossing_ways_prova.iterrows(): \n",
    "    print(index)\n",
    "    polygon = gdf_crossing_ways_prova[gdf_crossing_ways_prova['id'] == r.id]['geometry'].iloc[0]\n",
    "    l = list(s.distance(polygon))\n",
    "    #print(l)\n",
    "    l1 = []\n",
    "    for i in range(len(l)):\n",
    "    #    l1 = []\n",
    "        if l[i] <= 2:\n",
    "            l1.append(gdf_ciclabili_prova.iloc[i].id_num)\n",
    "    list_closest_lanes.append(l1)\n"
   ]
  },
  {
   "cell_type": "code",
   "execution_count": null,
   "id": "744102a1",
   "metadata": {},
   "outputs": [],
   "source": [
    "gdf_crossing_ways['closest_lanes'] = list_closest_lanes\n",
    "gdf_crossing_ways.to_crs(epsg=4326, inplace=True)"
   ]
  },
  {
   "cell_type": "code",
   "execution_count": null,
   "id": "77e27fb2",
   "metadata": {},
   "outputs": [],
   "source": []
  },
  {
   "cell_type": "code",
   "execution_count": null,
   "id": "6c54a7e4",
   "metadata": {},
   "outputs": [],
   "source": []
  },
  {
   "cell_type": "code",
   "execution_count": null,
   "id": "bd9383a3",
   "metadata": {},
   "outputs": [],
   "source": []
  },
  {
   "cell_type": "code",
   "execution_count": null,
   "id": "7a8d3e90",
   "metadata": {},
   "outputs": [],
   "source": []
  },
  {
   "cell_type": "code",
   "execution_count": null,
   "id": "5a2f6717",
   "metadata": {},
   "outputs": [],
   "source": []
  },
  {
   "cell_type": "code",
   "execution_count": null,
   "id": "992b7a5d",
   "metadata": {},
   "outputs": [],
   "source": []
  }
 ],
 "metadata": {
  "kernelspec": {
   "display_name": "Python 3 (ipykernel)",
   "language": "python",
   "name": "python3"
  },
  "language_info": {
   "codemirror_mode": {
    "name": "ipython",
    "version": 3
   },
   "file_extension": ".py",
   "mimetype": "text/x-python",
   "name": "python",
   "nbconvert_exporter": "python",
   "pygments_lexer": "ipython3",
   "version": "3.10.1"
  }
 },
 "nbformat": 4,
 "nbformat_minor": 5
}
